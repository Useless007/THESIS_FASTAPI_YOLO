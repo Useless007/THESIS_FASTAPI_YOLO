{
 "cells": [
  {
   "cell_type": "code",
   "execution_count": null,
   "metadata": {},
   "outputs": [
    {
     "name": "stderr",
     "output_type": "stream",
     "text": [
      "c:\\Users\\Admin\\.conda\\envs\\realproject\\lib\\site-packages\\ultralytics\\nn\\tasks.py:733: FutureWarning: You are using `torch.load` with `weights_only=False` (the current default value), which uses the default pickle module implicitly. It is possible to construct malicious pickle data which will execute arbitrary code during unpickling (See https://github.com/pytorch/pytorch/blob/main/SECURITY.md#untrusted-models for more details). In a future release, the default value for `weights_only` will be flipped to `True`. This limits the functions that could be executed during unpickling. Arbitrary objects will no longer be allowed to be loaded via this mode unless they are explicitly allowlisted by the user via `torch.serialization.add_safe_globals`. We recommend you start setting `weights_only=True` for any use case where you don't have full control of the loaded file. Please open an issue on GitHub for any issues related to this experimental feature.\n",
      "  ckpt = torch.load(file, map_location=\"cpu\")\n"
     ]
    },
    {
     "name": "stdout",
     "output_type": "stream",
     "text": [
      "\n",
      "image 1/1 d:\\THESIS_FASTAPI_YOLO\\app\\routers\\..\\..\\uploads\\packing_images\\IMG_6584.jpg: 640x384 1 Arduino UNO WiFi Rev2, 54.7ms\n",
      "Speed: 3.0ms preprocess, 54.7ms inference, 10.5ms postprocess per image at shape (1, 3, 640, 384)\n",
      "Label: Arduino UNO WiFi Rev2, Confidence: 0.7179079651832581, Box: [737.274169921875, 1551.224365234375, 1504.79052734375, 2473.356201171875]\n"
     ]
    },
    {
     "ename": "",
     "evalue": "",
     "output_type": "error",
     "traceback": [
      "\u001b[1;31mThe Kernel crashed while executing code in the current cell or a previous cell. \n",
      "\u001b[1;31mPlease review the code in the cell(s) to identify a possible cause of the failure. \n",
      "\u001b[1;31mClick <a href='https://aka.ms/vscodeJupyterKernelCrash'>here</a> for more info. \n",
      "\u001b[1;31mView Jupyter <a href='command:jupyter.viewOutput'>log</a> for further details."
     ]
    }
   ],
   "source": [
    "from ultralytics import YOLOv10 as YOLO\n",
    "\n",
    "# โหลดโมเดล\n",
    "model = YOLO(\"../models/best.pt\")\n",
    "\n",
    "# ทดสอบตรวจจับวัตถุ\n",
    "results = model.predict(source=\"../../uploads/packing_images/IMG_6584.jpg\", conf=0.5, stream=False, device='cpu')\n",
    "\n",
    "# ตรวจสอบผลลัพธ์\n",
    "for result in results:\n",
    "    if hasattr(result, 'boxes') and result.boxes is not None:\n",
    "        for box in result.boxes.data:\n",
    "            x1, y1, x2, y2, conf, cls = box.tolist()\n",
    "            print(f\"Label: {model.names[int(cls)]}, Confidence: {conf}, Box: {[x1, y1, x2, y2]}\")\n",
    "    else:\n",
    "        print(\"❌ No detection results found.\")\n"
   ]
  }
 ],
 "metadata": {
  "kernelspec": {
   "display_name": "realproject",
   "language": "python",
   "name": "python3"
  },
  "language_info": {
   "codemirror_mode": {
    "name": "ipython",
    "version": 3
   },
   "file_extension": ".py",
   "mimetype": "text/x-python",
   "name": "python",
   "nbconvert_exporter": "python",
   "pygments_lexer": "ipython3",
   "version": "3.9.18"
  }
 },
 "nbformat": 4,
 "nbformat_minor": 2
}
